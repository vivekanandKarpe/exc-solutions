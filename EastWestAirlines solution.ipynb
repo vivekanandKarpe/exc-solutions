{
  "cells": [
    {
      "cell_type": "code",
      "execution_count": null,
      "metadata": {
        "id": "WOYTj_90vyJ8"
      },
      "outputs": [],
      "source": [
        "import numpy as np\n",
        "import pandas as pd\n",
        "from matplotlib import pyplot as plt\n",
        "from sklearn.cluster import KMeans\n",
        "from sklearn.preprocessing import StandardScaler\n",
        "from sklearn import preprocessing\n",
        "import seaborn as sns\n",
        "import scipy.cluster.hierarchy as sch\n",
        "from sklearn.cluster import AgglomerativeClustering"
      ]
    },
    {
      "cell_type": "markdown",
      "metadata": {
        "id": "Ivt-YAvEvyKN"
      },
      "source": [
        "## __1 - Business Problem__  \n",
        "___Perform clustering (Both hierarchical and K means clustering) for the airlines data to obtain optimum number of clusters___  "
      ]
    },
    {
      "cell_type": "markdown",
      "metadata": {
        "id": "hTf31VAsvyKR"
      },
      "source": [
        "## __2 - Data collection and description__ "
      ]
    },
    {
      "cell_type": "code",
      "execution_count": null,
      "metadata": {
        "id": "wUtLCL1ovyKS"
      },
      "outputs": [],
      "source": [
        "df = pd.read_csv(\"C:\\Users\\shanu\\Desktop\\Excelr assignments\\7. Clustering\\EastWestAirlines.xlsx\")"
      ]
    },
    {
      "cell_type": "code",
      "execution_count": null,
      "metadata": {
        "id": "vn1zxKhevyKT"
      },
      "outputs": [],
      "source": [
        "df1 = df.copy()"
      ]
    },
    {
      "cell_type": "code",
      "execution_count": null,
      "metadata": {
        "id": "AViHUaqGvyKU",
        "outputId": "27c6b72f-01ef-45af-af14-83dbd00d7d4d"
      },
      "outputs": [
        {
          "data": {
            "text/html": [
              "<div>\n",
              "<style scoped>\n",
              "    .dataframe tbody tr th:only-of-type {\n",
              "        vertical-align: middle;\n",
              "    }\n",
              "\n",
              "    .dataframe tbody tr th {\n",
              "        vertical-align: top;\n",
              "    }\n",
              "\n",
              "    .dataframe thead th {\n",
              "        text-align: right;\n",
              "    }\n",
              "</style>\n",
              "<table border=\"1\" class=\"dataframe\">\n",
              "  <thead>\n",
              "    <tr style=\"text-align: right;\">\n",
              "      <th></th>\n",
              "      <th>ID#</th>\n",
              "      <th>Balance</th>\n",
              "      <th>Qual_miles</th>\n",
              "      <th>cc1_miles</th>\n",
              "      <th>cc2_miles</th>\n",
              "      <th>cc3_miles</th>\n",
              "      <th>Bonus_miles</th>\n",
              "      <th>Bonus_trans</th>\n",
              "      <th>Flight_miles_12mo</th>\n",
              "      <th>Flight_trans_12</th>\n",
              "      <th>Days_since_enroll</th>\n",
              "      <th>Award?</th>\n",
              "    </tr>\n",
              "  </thead>\n",
              "  <tbody>\n",
              "    <tr>\n",
              "      <td>0</td>\n",
              "      <td>1</td>\n",
              "      <td>28143</td>\n",
              "      <td>0</td>\n",
              "      <td>1</td>\n",
              "      <td>1</td>\n",
              "      <td>1</td>\n",
              "      <td>174</td>\n",
              "      <td>1</td>\n",
              "      <td>0</td>\n",
              "      <td>0</td>\n",
              "      <td>7000</td>\n",
              "      <td>0</td>\n",
              "    </tr>\n",
              "    <tr>\n",
              "      <td>1</td>\n",
              "      <td>2</td>\n",
              "      <td>19244</td>\n",
              "      <td>0</td>\n",
              "      <td>1</td>\n",
              "      <td>1</td>\n",
              "      <td>1</td>\n",
              "      <td>215</td>\n",
              "      <td>2</td>\n",
              "      <td>0</td>\n",
              "      <td>0</td>\n",
              "      <td>6968</td>\n",
              "      <td>0</td>\n",
              "    </tr>\n",
              "    <tr>\n",
              "      <td>2</td>\n",
              "      <td>3</td>\n",
              "      <td>41354</td>\n",
              "      <td>0</td>\n",
              "      <td>1</td>\n",
              "      <td>1</td>\n",
              "      <td>1</td>\n",
              "      <td>4123</td>\n",
              "      <td>4</td>\n",
              "      <td>0</td>\n",
              "      <td>0</td>\n",
              "      <td>7034</td>\n",
              "      <td>0</td>\n",
              "    </tr>\n",
              "    <tr>\n",
              "      <td>3</td>\n",
              "      <td>4</td>\n",
              "      <td>14776</td>\n",
              "      <td>0</td>\n",
              "      <td>1</td>\n",
              "      <td>1</td>\n",
              "      <td>1</td>\n",
              "      <td>500</td>\n",
              "      <td>1</td>\n",
              "      <td>0</td>\n",
              "      <td>0</td>\n",
              "      <td>6952</td>\n",
              "      <td>0</td>\n",
              "    </tr>\n",
              "    <tr>\n",
              "      <td>4</td>\n",
              "      <td>5</td>\n",
              "      <td>97752</td>\n",
              "      <td>0</td>\n",
              "      <td>4</td>\n",
              "      <td>1</td>\n",
              "      <td>1</td>\n",
              "      <td>43300</td>\n",
              "      <td>26</td>\n",
              "      <td>2077</td>\n",
              "      <td>4</td>\n",
              "      <td>6935</td>\n",
              "      <td>1</td>\n",
              "    </tr>\n",
              "  </tbody>\n",
              "</table>\n",
              "</div>"
            ],
            "text/plain": [
              "   ID#  Balance  Qual_miles  cc1_miles  cc2_miles  cc3_miles  Bonus_miles  \\\n",
              "0    1    28143           0          1          1          1          174   \n",
              "1    2    19244           0          1          1          1          215   \n",
              "2    3    41354           0          1          1          1         4123   \n",
              "3    4    14776           0          1          1          1          500   \n",
              "4    5    97752           0          4          1          1        43300   \n",
              "\n",
              "   Bonus_trans  Flight_miles_12mo  Flight_trans_12  Days_since_enroll  Award?  \n",
              "0            1                  0                0               7000       0  \n",
              "1            2                  0                0               6968       0  \n",
              "2            4                  0                0               7034       0  \n",
              "3            1                  0                0               6952       0  \n",
              "4           26               2077                4               6935       1  "
            ]
          },
          "execution_count": 5,
          "metadata": {},
          "output_type": "execute_result"
        }
      ],
      "source": [
        "df1.head()"
      ]
    },
    {
      "cell_type": "code",
      "execution_count": null,
      "metadata": {
        "id": "KEY2S4bRvyKW"
      },
      "outputs": [],
      "source": [
        "df1_norm = preprocessing.scale(df1)"
      ]
    },
    {
      "cell_type": "code",
      "execution_count": null,
      "metadata": {
        "id": "ngXujApNvyKX"
      },
      "outputs": [],
      "source": [
        "df1_norm = pd.DataFrame(df1_norm) #standardize the data to normal distribution"
      ]
    },
    {
      "cell_type": "code",
      "execution_count": null,
      "metadata": {
        "id": "bRy_hWLrvyKY",
        "outputId": "035ef2e2-dde8-4fdf-d444-3f5a299200bf"
      },
      "outputs": [
        {
          "data": {
            "text/html": [
              "<div>\n",
              "<style scoped>\n",
              "    .dataframe tbody tr th:only-of-type {\n",
              "        vertical-align: middle;\n",
              "    }\n",
              "\n",
              "    .dataframe tbody tr th {\n",
              "        vertical-align: top;\n",
              "    }\n",
              "\n",
              "    .dataframe thead th {\n",
              "        text-align: right;\n",
              "    }\n",
              "</style>\n",
              "<table border=\"1\" class=\"dataframe\">\n",
              "  <thead>\n",
              "    <tr style=\"text-align: right;\">\n",
              "      <th></th>\n",
              "      <th>0</th>\n",
              "      <th>1</th>\n",
              "      <th>2</th>\n",
              "      <th>3</th>\n",
              "      <th>4</th>\n",
              "      <th>5</th>\n",
              "      <th>6</th>\n",
              "      <th>7</th>\n",
              "      <th>8</th>\n",
              "      <th>9</th>\n",
              "      <th>10</th>\n",
              "      <th>11</th>\n",
              "    </tr>\n",
              "  </thead>\n",
              "  <tbody>\n",
              "    <tr>\n",
              "      <td>0</td>\n",
              "      <td>-1.735125</td>\n",
              "      <td>-0.451141</td>\n",
              "      <td>-0.186299</td>\n",
              "      <td>-0.769578</td>\n",
              "      <td>-0.098242</td>\n",
              "      <td>-0.062767</td>\n",
              "      <td>-0.702786</td>\n",
              "      <td>-1.104065</td>\n",
              "      <td>-0.328603</td>\n",
              "      <td>-0.362168</td>\n",
              "      <td>1.395454</td>\n",
              "      <td>-0.766919</td>\n",
              "    </tr>\n",
              "    <tr>\n",
              "      <td>1</td>\n",
              "      <td>-1.734263</td>\n",
              "      <td>-0.539457</td>\n",
              "      <td>-0.186299</td>\n",
              "      <td>-0.769578</td>\n",
              "      <td>-0.098242</td>\n",
              "      <td>-0.062767</td>\n",
              "      <td>-0.701088</td>\n",
              "      <td>-0.999926</td>\n",
              "      <td>-0.328603</td>\n",
              "      <td>-0.362168</td>\n",
              "      <td>1.379957</td>\n",
              "      <td>-0.766919</td>\n",
              "    </tr>\n",
              "    <tr>\n",
              "      <td>2</td>\n",
              "      <td>-1.733402</td>\n",
              "      <td>-0.320031</td>\n",
              "      <td>-0.186299</td>\n",
              "      <td>-0.769578</td>\n",
              "      <td>-0.098242</td>\n",
              "      <td>-0.062767</td>\n",
              "      <td>-0.539253</td>\n",
              "      <td>-0.791649</td>\n",
              "      <td>-0.328603</td>\n",
              "      <td>-0.362168</td>\n",
              "      <td>1.411920</td>\n",
              "      <td>-0.766919</td>\n",
              "    </tr>\n",
              "    <tr>\n",
              "      <td>3</td>\n",
              "      <td>-1.732540</td>\n",
              "      <td>-0.583799</td>\n",
              "      <td>-0.186299</td>\n",
              "      <td>-0.769578</td>\n",
              "      <td>-0.098242</td>\n",
              "      <td>-0.062767</td>\n",
              "      <td>-0.689286</td>\n",
              "      <td>-1.104065</td>\n",
              "      <td>-0.328603</td>\n",
              "      <td>-0.362168</td>\n",
              "      <td>1.372208</td>\n",
              "      <td>-0.766919</td>\n",
              "    </tr>\n",
              "    <tr>\n",
              "      <td>4</td>\n",
              "      <td>-1.731679</td>\n",
              "      <td>0.239678</td>\n",
              "      <td>-0.186299</td>\n",
              "      <td>1.409471</td>\n",
              "      <td>-0.098242</td>\n",
              "      <td>-0.062767</td>\n",
              "      <td>1.083121</td>\n",
              "      <td>1.499394</td>\n",
              "      <td>1.154932</td>\n",
              "      <td>0.692490</td>\n",
              "      <td>1.363975</td>\n",
              "      <td>1.303918</td>\n",
              "    </tr>\n",
              "  </tbody>\n",
              "</table>\n",
              "</div>"
            ],
            "text/plain": [
              "          0         1         2         3         4         5         6  \\\n",
              "0 -1.735125 -0.451141 -0.186299 -0.769578 -0.098242 -0.062767 -0.702786   \n",
              "1 -1.734263 -0.539457 -0.186299 -0.769578 -0.098242 -0.062767 -0.701088   \n",
              "2 -1.733402 -0.320031 -0.186299 -0.769578 -0.098242 -0.062767 -0.539253   \n",
              "3 -1.732540 -0.583799 -0.186299 -0.769578 -0.098242 -0.062767 -0.689286   \n",
              "4 -1.731679  0.239678 -0.186299  1.409471 -0.098242 -0.062767  1.083121   \n",
              "\n",
              "          7         8         9        10        11  \n",
              "0 -1.104065 -0.328603 -0.362168  1.395454 -0.766919  \n",
              "1 -0.999926 -0.328603 -0.362168  1.379957 -0.766919  \n",
              "2 -0.791649 -0.328603 -0.362168  1.411920 -0.766919  \n",
              "3 -1.104065 -0.328603 -0.362168  1.372208 -0.766919  \n",
              "4  1.499394  1.154932  0.692490  1.363975  1.303918  "
            ]
          },
          "execution_count": 8,
          "metadata": {},
          "output_type": "execute_result"
        }
      ],
      "source": [
        "df1_norm.head()"
      ]
    },
    {
      "cell_type": "markdown",
      "metadata": {
        "id": "J0uGy8PpvyKZ"
      },
      "source": [
        "## __3 - Finding out the optimal number of clusters__ "
      ]
    },
    {
      "cell_type": "code",
      "execution_count": null,
      "metadata": {
        "id": "uvUHdYBmvyKa",
        "outputId": "6e98f415-375a-4572-9d9d-146e9daff4a9"
      },
      "outputs": [
        {
          "data": {
            "image/png": "[encoded data removed]",
            "text/plain": [
              "<Figure size 720x576 with 1 Axes>"
            ]
          },
          "metadata": {
            "needs_background": "light"
          },
          "output_type": "display_data"
        }
      ],
      "source": [
        "plt.figure(figsize=(10, 8))\n",
        "wcss = []\n",
        "for i in range(1, 15):\n",
        "    kmeans = KMeans(n_clusters = i, init = 'k-means++', random_state = 42)\n",
        "    kmeans.fit(df1_norm)\n",
        "    wcss.append(kmeans.inertia_)\n",
        "plt.plot(range(1, 15), wcss)\n",
        "plt.title('The Elbow Method')\n",
        "plt.xlabel('Number of clusters')\n",
        "plt.ylabel('WCSS')\n",
        "plt.show()"
      ]
    },
    {
      "cell_type": "markdown",
      "metadata": {
        "id": "chephS13vyKc"
      },
      "source": [
        "### As seen from the elbow graph, the slope changes at 2. However, since spltting the dataset into 2 groups would not be very beneficial, we further evaluate clusters for higher values of k."
      ]
    },
    {
      "cell_type": "markdown",
      "metadata": {
        "id": "ZQPolO4zvyKd"
      },
      "source": [
        "## __4 - H Clustering__"
      ]
    },
    {
      "cell_type": "markdown",
      "metadata": {
        "id": "7BunM2_KvyKd"
      },
      "source": [
        "### __4.1 - Euclidean distance, Ward__ "
      ]
    },
    {
      "cell_type": "code",
      "execution_count": null,
      "metadata": {
        "id": "8gKLRfXjvyKe",
        "outputId": "013c9e8c-c7d4-4c89-9fd0-6bf33e9bab81"
      },
      "outputs": [
        {
          "data": {
            "image/png": "[encoded data removed]",
            "text/plain": [
              "<Figure size 432x288 with 1 Axes>"
            ]
          },
          "metadata": {
            "needs_background": "light"
          },
          "output_type": "display_data"
        }
      ],
      "source": [
        "dendrogram = sch.dendrogram(sch.linkage(df1_norm, method='ward'))"
      ]
    },
    {
      "cell_type": "markdown",
      "metadata": {
        "id": "w8vMoVhwvyKe"
      },
      "source": [
        "From the Ward method, we see that as the height increases the clusters get grouped together  \n",
        "  \n",
        "We decided to cut the tree at height 85 to obtain 3 clusters and then assigned each cluster with its respective observations"
      ]
    },
    {
      "cell_type": "code",
      "execution_count": null,
      "metadata": {
        "id": "yOBqZTkCvyKf"
      },
      "outputs": [],
      "source": [
        "X = df1_norm.values"
      ]
    },
    {
      "cell_type": "code",
      "execution_count": null,
      "metadata": {
        "id": "VXrvdxO7vyKf"
      },
      "outputs": [],
      "source": [
        "model = AgglomerativeClustering(n_clusters=3, affinity='euclidean', linkage='ward')"
      ]
    },
    {
      "cell_type": "code",
      "execution_count": null,
      "metadata": {
        "id": "g3-DTrUmvyKg"
      },
      "outputs": [],
      "source": [
        "h_cluster = model.fit(X)"
      ]
    },
    {
      "cell_type": "code",
      "execution_count": null,
      "metadata": {
        "id": "VP_LoCzdvyKg"
      },
      "outputs": [],
      "source": [
        "labels = model.labels_"
      ]
    },
    {
      "cell_type": "code",
      "execution_count": null,
      "metadata": {
        "id": "1_-g1eGPvyKh",
        "outputId": "c58de6e4-01f2-4a94-a9fc-fa5b64257925"
      },
      "outputs": [
        {
          "data": {
            "text/plain": [
              "<matplotlib.collections.PathCollection at 0x1adac844ac8>"
            ]
          },
          "execution_count": 36,
          "metadata": {},
          "output_type": "execute_result"
        },
        {
          "data": {
            "image/png": "[encoded data removed]",
            "text/plain": [
              "<Figure size 432x288 with 1 Axes>"
            ]
          },
          "metadata": {
            "needs_background": "light"
          },
          "output_type": "display_data"
        }
      ],
      "source": [
        "plt.scatter(X[labels==0, 0], X[labels==0, 1], s=50, marker='o', color='red')\n",
        "plt.scatter(X[labels==1, 0], X[labels==1, 1], s=50, marker='o', color='blue')\n",
        "plt.scatter(X[labels==2, 0], X[labels==2, 1], s=50, marker='o', color='green')"
      ]
    },
    {
      "cell_type": "markdown",
      "metadata": {
        "id": "q-uTvgYnvyKi"
      },
      "source": [
        "## __5 - K Means__ "
      ]
    },
    {
      "cell_type": "code",
      "execution_count": null,
      "metadata": {
        "id": "1dV_TQ8AvyKi"
      },
      "outputs": [],
      "source": [
        "kmeans = KMeans(n_clusters = 3, init = 'k-means++', random_state = 42)\n",
        "k_means = kmeans.fit_predict(df1_norm)"
      ]
    },
    {
      "cell_type": "code",
      "execution_count": null,
      "metadata": {
        "id": "1huKJLYKvyKj",
        "outputId": "f69755ef-d27e-484f-b5c6-245317cb368a"
      },
      "outputs": [
        {
          "data": {
            "text/plain": [
              "array([0, 0, 0, ..., 0, 0, 0])"
            ]
          },
          "execution_count": 17,
          "metadata": {},
          "output_type": "execute_result"
        }
      ],
      "source": [
        "k_means"
      ]
    },
    {
      "cell_type": "code",
      "execution_count": null,
      "metadata": {
        "id": "Y-x1cjAjvyKk"
      },
      "outputs": [],
      "source": [
        "k_means1=k_means+1\n",
        "k_cluster = list(k_means1)"
      ]
    },
    {
      "cell_type": "code",
      "execution_count": null,
      "metadata": {
        "id": "h_eTjyJovyKl"
      },
      "outputs": [],
      "source": [
        "df1['k_cluster'] = k_cluster"
      ]
    },
    {
      "cell_type": "code",
      "execution_count": null,
      "metadata": {
        "id": "GQouIoSMvyKl"
      },
      "outputs": [],
      "source": [
        "kmeans_mean_cluster = pd.DataFrame(round(df1.groupby('k_cluster').mean(),1))"
      ]
    },
    {
      "cell_type": "code",
      "execution_count": null,
      "metadata": {
        "id": "igYabZ78vyKl",
        "outputId": "19a25e46-9ffa-46ba-f98d-5062b6fc0a01"
      },
      "outputs": [
        {
          "data": {
            "text/html": [
              "<div>\n",
              "<style scoped>\n",
              "    .dataframe tbody tr th:only-of-type {\n",
              "        vertical-align: middle;\n",
              "    }\n",
              "\n",
              "    .dataframe tbody tr th {\n",
              "        vertical-align: top;\n",
              "    }\n",
              "\n",
              "    .dataframe thead th {\n",
              "        text-align: right;\n",
              "    }\n",
              "</style>\n",
              "<table border=\"1\" class=\"dataframe\">\n",
              "  <thead>\n",
              "    <tr style=\"text-align: right;\">\n",
              "      <th></th>\n",
              "      <th>ID#</th>\n",
              "      <th>Balance</th>\n",
              "      <th>Qual_miles</th>\n",
              "      <th>cc1_miles</th>\n",
              "      <th>cc2_miles</th>\n",
              "      <th>cc3_miles</th>\n",
              "      <th>Bonus_miles</th>\n",
              "      <th>Bonus_trans</th>\n",
              "      <th>Flight_miles_12mo</th>\n",
              "      <th>Flight_trans_12</th>\n",
              "      <th>Days_since_enroll</th>\n",
              "      <th>Award?</th>\n",
              "    </tr>\n",
              "    <tr>\n",
              "      <th>k_cluster</th>\n",
              "      <th></th>\n",
              "      <th></th>\n",
              "      <th></th>\n",
              "      <th></th>\n",
              "      <th></th>\n",
              "      <th></th>\n",
              "      <th></th>\n",
              "      <th></th>\n",
              "      <th></th>\n",
              "      <th></th>\n",
              "      <th></th>\n",
              "      <th></th>\n",
              "    </tr>\n",
              "  </thead>\n",
              "  <tbody>\n",
              "    <tr>\n",
              "      <td>1</td>\n",
              "      <td>2327.1</td>\n",
              "      <td>42243.6</td>\n",
              "      <td>91.1</td>\n",
              "      <td>1.2</td>\n",
              "      <td>1.0</td>\n",
              "      <td>1.0</td>\n",
              "      <td>4896.4</td>\n",
              "      <td>7.0</td>\n",
              "      <td>194.4</td>\n",
              "      <td>0.6</td>\n",
              "      <td>3549.8</td>\n",
              "      <td>0.2</td>\n",
              "    </tr>\n",
              "    <tr>\n",
              "      <td>2</td>\n",
              "      <td>1445.6</td>\n",
              "      <td>119557.7</td>\n",
              "      <td>165.6</td>\n",
              "      <td>3.6</td>\n",
              "      <td>1.0</td>\n",
              "      <td>1.0</td>\n",
              "      <td>38921.2</td>\n",
              "      <td>18.6</td>\n",
              "      <td>351.2</td>\n",
              "      <td>1.1</td>\n",
              "      <td>5147.4</td>\n",
              "      <td>0.6</td>\n",
              "    </tr>\n",
              "    <tr>\n",
              "      <td>3</td>\n",
              "      <td>1753.1</td>\n",
              "      <td>189304.2</td>\n",
              "      <td>788.7</td>\n",
              "      <td>2.2</td>\n",
              "      <td>1.0</td>\n",
              "      <td>1.0</td>\n",
              "      <td>31780.5</td>\n",
              "      <td>27.1</td>\n",
              "      <td>5420.4</td>\n",
              "      <td>15.8</td>\n",
              "      <td>4657.0</td>\n",
              "      <td>0.8</td>\n",
              "    </tr>\n",
              "  </tbody>\n",
              "</table>\n",
              "</div>"
            ],
            "text/plain": [
              "              ID#   Balance  Qual_miles  cc1_miles  cc2_miles  cc3_miles  \\\n",
              "k_cluster                                                                  \n",
              "1          2327.1   42243.6        91.1        1.2        1.0        1.0   \n",
              "2          1445.6  119557.7       165.6        3.6        1.0        1.0   \n",
              "3          1753.1  189304.2       788.7        2.2        1.0        1.0   \n",
              "\n",
              "           Bonus_miles  Bonus_trans  Flight_miles_12mo  Flight_trans_12  \\\n",
              "k_cluster                                                                 \n",
              "1               4896.4          7.0              194.4              0.6   \n",
              "2              38921.2         18.6              351.2              1.1   \n",
              "3              31780.5         27.1             5420.4             15.8   \n",
              "\n",
              "           Days_since_enroll  Award?  \n",
              "k_cluster                             \n",
              "1                     3549.8     0.2  \n",
              "2                     5147.4     0.6  \n",
              "3                     4657.0     0.8  "
            ]
          },
          "execution_count": 21,
          "metadata": {},
          "output_type": "execute_result"
        }
      ],
      "source": [
        "kmeans_mean_cluster"
      ]
    },
    {
      "cell_type": "code",
      "execution_count": null,
      "metadata": {
        "id": "jnNlH1T8vyKm",
        "outputId": "f92018eb-d080-4d96-a901-831df61bb218"
      },
      "outputs": [
        {
          "data": {
            "text/html": [
              "<div>\n",
              "<style scoped>\n",
              "    .dataframe tbody tr th:only-of-type {\n",
              "        vertical-align: middle;\n",
              "    }\n",
              "\n",
              "    .dataframe tbody tr th {\n",
              "        vertical-align: top;\n",
              "    }\n",
              "\n",
              "    .dataframe thead th {\n",
              "        text-align: right;\n",
              "    }\n",
              "</style>\n",
              "<table border=\"1\" class=\"dataframe\">\n",
              "  <thead>\n",
              "    <tr style=\"text-align: right;\">\n",
              "      <th></th>\n",
              "      <th>ID#</th>\n",
              "      <th>Balance</th>\n",
              "      <th>Qual_miles</th>\n",
              "      <th>cc1_miles</th>\n",
              "      <th>cc2_miles</th>\n",
              "      <th>cc3_miles</th>\n",
              "      <th>Bonus_miles</th>\n",
              "      <th>Bonus_trans</th>\n",
              "      <th>Flight_miles_12mo</th>\n",
              "      <th>Flight_trans_12</th>\n",
              "      <th>Days_since_enroll</th>\n",
              "      <th>Award?</th>\n",
              "    </tr>\n",
              "    <tr>\n",
              "      <th>k_cluster</th>\n",
              "      <th></th>\n",
              "      <th></th>\n",
              "      <th></th>\n",
              "      <th></th>\n",
              "      <th></th>\n",
              "      <th></th>\n",
              "      <th></th>\n",
              "      <th></th>\n",
              "      <th></th>\n",
              "      <th></th>\n",
              "      <th></th>\n",
              "      <th></th>\n",
              "    </tr>\n",
              "  </thead>\n",
              "  <tbody>\n",
              "    <tr>\n",
              "      <td>1</td>\n",
              "      <td>2525</td>\n",
              "      <td>2525</td>\n",
              "      <td>2525</td>\n",
              "      <td>2525</td>\n",
              "      <td>2525</td>\n",
              "      <td>2525</td>\n",
              "      <td>2525</td>\n",
              "      <td>2525</td>\n",
              "      <td>2525</td>\n",
              "      <td>2525</td>\n",
              "      <td>2525</td>\n",
              "      <td>2525</td>\n",
              "    </tr>\n",
              "    <tr>\n",
              "      <td>2</td>\n",
              "      <td>1310</td>\n",
              "      <td>1310</td>\n",
              "      <td>1310</td>\n",
              "      <td>1310</td>\n",
              "      <td>1310</td>\n",
              "      <td>1310</td>\n",
              "      <td>1310</td>\n",
              "      <td>1310</td>\n",
              "      <td>1310</td>\n",
              "      <td>1310</td>\n",
              "      <td>1310</td>\n",
              "      <td>1310</td>\n",
              "    </tr>\n",
              "    <tr>\n",
              "      <td>3</td>\n",
              "      <td>164</td>\n",
              "      <td>164</td>\n",
              "      <td>164</td>\n",
              "      <td>164</td>\n",
              "      <td>164</td>\n",
              "      <td>164</td>\n",
              "      <td>164</td>\n",
              "      <td>164</td>\n",
              "      <td>164</td>\n",
              "      <td>164</td>\n",
              "      <td>164</td>\n",
              "      <td>164</td>\n",
              "    </tr>\n",
              "  </tbody>\n",
              "</table>\n",
              "</div>"
            ],
            "text/plain": [
              "            ID#  Balance  Qual_miles  cc1_miles  cc2_miles  cc3_miles  \\\n",
              "k_cluster                                                               \n",
              "1          2525     2525        2525       2525       2525       2525   \n",
              "2          1310     1310        1310       1310       1310       1310   \n",
              "3           164      164         164        164        164        164   \n",
              "\n",
              "           Bonus_miles  Bonus_trans  Flight_miles_12mo  Flight_trans_12  \\\n",
              "k_cluster                                                                 \n",
              "1                 2525         2525               2525             2525   \n",
              "2                 1310         1310               1310             1310   \n",
              "3                  164          164                164              164   \n",
              "\n",
              "           Days_since_enroll  Award?  \n",
              "k_cluster                             \n",
              "1                       2525    2525  \n",
              "2                       1310    1310  \n",
              "3                        164     164  "
            ]
          },
          "execution_count": 23,
          "metadata": {},
          "output_type": "execute_result"
        }
      ],
      "source": [
        "pd.DataFrame(round(df1.groupby('k_cluster').count(),1))"
      ]
    },
    {
      "cell_type": "code",
      "execution_count": null,
      "metadata": {
        "id": "MT89gvpsvyKn",
        "outputId": "4c1dc2c5-e003-4b25-b7ca-af1b36f442f8"
      },
      "outputs": [
        {
          "data": {
            "text/plain": [
              "<matplotlib.collections.PathCollection at 0x1adac717548>"
            ]
          },
          "execution_count": 39,
          "metadata": {},
          "output_type": "execute_result"
        },
        {
          "data": {
            "image/png": "[encoded data removed]",
            "text/plain": [
              "<Figure size 432x288 with 1 Axes>"
            ]
          },
          "metadata": {
            "needs_background": "light"
          },
          "output_type": "display_data"
        }
      ],
      "source": [
        "plt.scatter(X[:, 0], X[:, 1], c=k_means, s=50, cmap='viridis')"
      ]
    },
    {
      "cell_type": "markdown",
      "metadata": {
        "id": "dEIox5p-vyKn"
      },
      "source": [
        "## __5 - Conclusion__ "
      ]
    },
    {
      "cell_type": "markdown",
      "metadata": {
        "id": "dPyb9YTFvyKn"
      },
      "source": [
        "From the above data generated from K-Means clustering, we can see Cluster-1 has around 63% total travelers and cluster 2 has 33% of the travelers. We will target cluster 1 & 2. Cluster 1 contains less frequent or first time travellers, by giving them discount provided they travel more than twice or thrice and introduce more offer if they register or take the membership."
      ]
    },
    {
      "cell_type": "code",
      "execution_count": null,
      "metadata": {
        "id": "rCPUMO32vyKo"
      },
      "outputs": [],
      "source": []
    }
  ],
  "metadata": {
    "kernelspec": {
      "display_name": "Python 3",
      "language": "python",
      "name": "python3"
    },
    "language_info": {
      "codemirror_mode": {
        "name": "ipython",
        "version": 3
      },
      "file_extension": ".py",
      "mimetype": "text/x-python",
      "name": "python",
      "nbconvert_exporter": "python",
      "pygments_lexer": "ipython3",
      "version": "3.7.4"
    },
    "colab": {
      "provenance": []
    }
  },
  "nbformat": 4,
  "nbformat_minor": 0
}